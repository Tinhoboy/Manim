{
 "cells": [
  {
   "cell_type": "markdown",
   "id": "959d230a-4673-4ea6-8632-481be07d238d",
   "metadata": {},
   "source": [
    "Learn Manim - Full Course for Beginners [Tutorial]"
   ]
  },
  {
   "cell_type": "code",
   "execution_count": 3,
   "id": "a2d099ca-15e2-4a98-9608-457e3c4c5231",
   "metadata": {},
   "outputs": [
    {
     "data": {
      "text/html": [
       "<pre style=\"white-space:pre;overflow-x:auto;line-height:normal;font-family:Menlo,'DejaVu Sans Mono',consolas,'Courier New',monospace\">Manim Community <span style=\"color: #008000; text-decoration-color: #008000\">v0.17.0</span>\n",
       "\n",
       "</pre>\n"
      ],
      "text/plain": [
       "Manim Community \u001b[32mv0.\u001b[0m\u001b[32m17.0\u001b[0m\n",
       "\n"
      ]
     },
     "metadata": {},
     "output_type": "display_data"
    }
   ],
   "source": [
    "from manim import *"
   ]
  },
  {
   "cell_type": "code",
   "execution_count": 5,
   "id": "58399366-8008-47b7-9383-47069eb9cd3e",
   "metadata": {},
   "outputs": [
    {
     "name": "stderr",
     "output_type": "stream",
     "text": [
      "                                                                                                 \r"
     ]
    },
    {
     "data": {
      "text/html": [
       "<video src=\"media/jupyter/Testing@2023-03-01@19-41-43.mp4\" controls autoplay loop style=\"max-width: 60%;\"  >\n",
       "      Your browser does not support the <code>video</code> element.\n",
       "    </video>"
      ],
      "text/plain": [
       "<IPython.core.display.Video object>"
      ]
     },
     "metadata": {},
     "output_type": "display_data"
    }
   ],
   "source": [
    "%%manim -qm -v WARNING Testing\n",
    "from manim import *\n",
    "\n",
    "class Testing(Scene):\n",
    "    def construct(self):\n",
    "        name = Tex(\"Dark Nerd \").to_edge(UL,buff = 0.5) #Construção de um texto\n",
    "        sq = Square(side_length = 1, fill_color = GREEN, fill_opacity = 0.75).shift(LEFT *3) #Criação de um quadrado \n",
    "        tri = Triangle(fill_color = GREEN, fill_opacity = 0.75).scale(0.6).to_edge(DR) #Criação de um triangulo\n",
    "        \n",
    "        self.play(Write(name))# A função Write irá fazer escrever o nome \n",
    "        self.play(Create(sq), run_time = 2)\n",
    "        self.play(Create(tri))# A função Create irá criar um objeto\n",
    "        self.wait()\n",
    "        \n",
    "        self.play(name.animate.to_edge(UR), run_time = 2)#O método .animate.to_edge(UR) move o objeto para o canto superior direito\n",
    "        self.play(sq.animate.scale(2), tri.animate.to_edge(DL) ,run_time = 2)\n",
    "        "
   ]
  },
  {
   "cell_type": "code",
   "execution_count": 21,
   "id": "7e275650-8706-4bef-958c-d6cb5ed5f070",
   "metadata": {},
   "outputs": [
    {
     "name": "stderr",
     "output_type": "stream",
     "text": [
      "                                                                                                    \r"
     ]
    },
    {
     "data": {
      "text/html": [
       "<video src=\"media/jupyter/Graphing@2023-03-01@19-50-31.mp4\" controls autoplay loop style=\"max-width: 60%;\"  >\n",
       "      Your browser does not support the <code>video</code> element.\n",
       "    </video>"
      ],
      "text/plain": [
       "<IPython.core.display.Video object>"
      ]
     },
     "metadata": {},
     "output_type": "display_data"
    }
   ],
   "source": [
    "%%manim -qm -v WARNING Graphing\n",
    "\n",
    "from manim import *\n",
    "\n",
    "class Graphing(Scene):\n",
    "    def construct(self):\n",
    "        plane = (NumberPlane(\n",
    "            x_range = [-4, 4, 2] , x_length = 7, y_range = [0,16,4], y_length = 8\n",
    "        ).to_edge(DOWN).add_coordinates()\n",
    "            )\n",
    "        \n",
    "        labels = plane.get_axis_labels(x_label = \"x\" , y_label = \"f(x)\" )\n",
    "        parabola = plane.plot (lambda x :2.72 ** x, x_range = [-4,4,1], color = GREEN)\n",
    "        self.play(DrawBorderThenFill(plane))\n",
    "        self.play(Create(VGroup(labels,parabola)))\n",
    "        self.wait()"
   ]
  },
  {
   "cell_type": "code",
   "execution_count": 23,
   "id": "c74048a9-f814-4f63-8435-c08eba91f9e5",
   "metadata": {},
   "outputs": [
    {
     "name": "stderr",
     "output_type": "stream",
     "text": [
      "                                                                                                                                          \r"
     ]
    },
    {
     "data": {
      "text/html": [
       "<video src=\"media/jupyter/BasicExample@2023-03-01@19-51-23.mp4\" controls autoplay loop style=\"max-width: 60%;\"  >\n",
       "      Your browser does not support the <code>video</code> element.\n",
       "    </video>"
      ],
      "text/plain": [
       "<IPython.core.display.Video object>"
      ]
     },
     "metadata": {},
     "output_type": "display_data"
    }
   ],
   "source": [
    "%%manim -qm -v WARNING BasicExample\n",
    "from manim import *\n",
    "# or: from manimlib import *\n",
    "from manim_slides import Slide\n",
    "\n",
    "class BasicExample(Slide):\n",
    "    def construct(self):\n",
    "        circle = Circle(radius=3, color=BLUE)\n",
    "        dot = Dot()\n",
    "\n",
    "        self.play(GrowFromCenter(circle))\n",
    "        self.pause()  # Waits user to press continue to go to the next slide\n",
    "\n",
    "        self.start_loop()  # Start loop\n",
    "        self.play(MoveAlongPath(dot, circle), run_time=2, rate_func=linear)\n",
    "        self.end_loop()  # This will loop until user inputs a key\n",
    "\n",
    "        self.play(dot.animate.move_to(ORIGIN))\n",
    "        self.pause()  # Waits user to press continue to go to the next slide"
   ]
  }
 ],
 "metadata": {
  "kernelspec": {
   "display_name": "Python 3 (ipykernel)",
   "language": "python",
   "name": "python3"
  },
  "language_info": {
   "codemirror_mode": {
    "name": "ipython",
    "version": 3
   },
   "file_extension": ".py",
   "mimetype": "text/x-python",
   "name": "python",
   "nbconvert_exporter": "python",
   "pygments_lexer": "ipython3",
   "version": "3.8.15"
  }
 },
 "nbformat": 4,
 "nbformat_minor": 5
}
